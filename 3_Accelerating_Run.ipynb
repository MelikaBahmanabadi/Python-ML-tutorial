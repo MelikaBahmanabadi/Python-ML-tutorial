{
  "cells": [
    {
      "cell_type": "markdown",
      "metadata": {
        "id": "sL34AngHS_tM"
      },
      "source": [
        "Parallel Programming in Python with Message Passing Interface (mpi4py)"
      ]
    },
    {
      "cell_type": "code",
      "execution_count": null,
      "metadata": {
        "colab": {
          "background_save": true,
          "base_uri": "https://localhost:8080/"
        },
        "id": "U6fyBODCSafq",
        "outputId": "1719b30a-5944-469e-a463-2696730adc18"
      },
      "outputs": [
        {
          "name": "stdout",
          "output_type": "stream",
          "text": [
            "Collecting mpi4py\n",
            "\u001b[?25l  Downloading https://files.pythonhosted.org/packages/ec/8f/bbd8de5ba566dd77e408d8136e2bab7fdf2b97ce06cab830ba8b50a2f588/mpi4py-3.0.3.tar.gz (1.4MB)\n",
            "\r\u001b[K     |▎                               | 10kB 12.5MB/s eta 0:00:01\r\u001b[K     |▌                               | 20kB 17.5MB/s eta 0:00:01\r\u001b[K     |▊                               | 30kB 20.9MB/s eta 0:00:01\r\u001b[K     |█                               | 40kB 17.6MB/s eta 0:00:01\r\u001b[K     |█▏                              | 51kB 8.0MB/s eta 0:00:01\r\u001b[K     |█▍                              | 61kB 9.3MB/s eta 0:00:01\r\u001b[K     |█▋                              | 71kB 8.7MB/s eta 0:00:01\r\u001b[K     |█▉                              | 81kB 9.6MB/s eta 0:00:01\r\u001b[K     |██                              | 92kB 10.1MB/s eta 0:00:01\r\u001b[K     |██▎                             | 102kB 8.5MB/s eta 0:00:01\r\u001b[K     |██▌                             | 112kB 8.5MB/s eta 0:00:01\r\u001b[K     |██▊                             | 122kB 8.5MB/s eta 0:00:01\r\u001b[K     |███                             | 133kB 8.5MB/s eta 0:00:01\r\u001b[K     |███▏                            | 143kB 8.5MB/s eta 0:00:01\r\u001b[K     |███▍                            | 153kB 8.5MB/s eta 0:00:01\r\u001b[K     |███▊                            | 163kB 8.5MB/s eta 0:00:01\r\u001b[K     |████                            | 174kB 8.5MB/s eta 0:00:01\r\u001b[K     |████▏                           | 184kB 8.5MB/s eta 0:00:01\r\u001b[K     |████▍                           | 194kB 8.5MB/s eta 0:00:01\r\u001b[K     |████▋                           | 204kB 8.5MB/s eta 0:00:01\r\u001b[K     |████▉                           | 215kB 8.5MB/s eta 0:00:01\r\u001b[K     |█████                           | 225kB 8.5MB/s eta 0:00:01\r\u001b[K     |█████▎                          | 235kB 8.5MB/s eta 0:00:01\r\u001b[K     |█████▌                          | 245kB 8.5MB/s eta 0:00:01\r\u001b[K     |█████▊                          | 256kB 8.5MB/s eta 0:00:01\r\u001b[K     |██████                          | 266kB 8.5MB/s eta 0:00:01\r\u001b[K     |██████▏                         | 276kB 8.5MB/s eta 0:00:01\r\u001b[K     |██████▍                         | 286kB 8.5MB/s eta 0:00:01\r\u001b[K     |██████▋                         | 296kB 8.5MB/s eta 0:00:01\r\u001b[K     |██████▉                         | 307kB 8.5MB/s eta 0:00:01\r\u001b[K     |███████                         | 317kB 8.5MB/s eta 0:00:01\r\u001b[K     |███████▍                        | 327kB 8.5MB/s eta 0:00:01\r\u001b[K     |███████▋                        | 337kB 8.5MB/s eta 0:00:01\r\u001b[K     |███████▉                        | 348kB 8.5MB/s eta 0:00:01\r\u001b[K     |████████                        | 358kB 8.5MB/s eta 0:00:01\r\u001b[K     |████████▎                       | 368kB 8.5MB/s eta 0:00:01\r\u001b[K     |████████▌                       | 378kB 8.5MB/s eta 0:00:01\r\u001b[K     |████████▊                       | 389kB 8.5MB/s eta 0:00:01\r\u001b[K     |█████████                       | 399kB 8.5MB/s eta 0:00:01\r\u001b[K     |█████████▏                      | 409kB 8.5MB/s eta 0:00:01\r\u001b[K     |█████████▍                      | 419kB 8.5MB/s eta 0:00:01\r\u001b[K     |█████████▋                      | 430kB 8.5MB/s eta 0:00:01\r\u001b[K     |█████████▉                      | 440kB 8.5MB/s eta 0:00:01\r\u001b[K     |██████████                      | 450kB 8.5MB/s eta 0:00:01\r\u001b[K     |██████████▎                     | 460kB 8.5MB/s eta 0:00:01\r\u001b[K     |██████████▌                     | 471kB 8.5MB/s eta 0:00:01\r\u001b[K     |██████████▊                     | 481kB 8.5MB/s eta 0:00:01\r\u001b[K     |███████████                     | 491kB 8.5MB/s eta 0:00:01\r\u001b[K     |███████████▎                    | 501kB 8.5MB/s eta 0:00:01\r\u001b[K     |███████████▌                    | 512kB 8.5MB/s eta 0:00:01\r\u001b[K     |███████████▊                    | 522kB 8.5MB/s eta 0:00:01\r\u001b[K     |████████████                    | 532kB 8.5MB/s eta 0:00:01\r\u001b[K     |████████████▏                   | 542kB 8.5MB/s eta 0:00:01\r\u001b[K     |████████████▍                   | 552kB 8.5MB/s eta 0:00:01\r\u001b[K     |████████████▋                   | 563kB 8.5MB/s eta 0:00:01\r\u001b[K     |████████████▉                   | 573kB 8.5MB/s eta 0:00:01\r\u001b[K     |█████████████                   | 583kB 8.5MB/s eta 0:00:01\r\u001b[K     |█████████████▎                  | 593kB 8.5MB/s eta 0:00:01\r\u001b[K     |█████████████▌                  | 604kB 8.5MB/s eta 0:00:01\r\u001b[K     |█████████████▊                  | 614kB 8.5MB/s eta 0:00:01\r\u001b[K     |██████████████                  | 624kB 8.5MB/s eta 0:00:01\r\u001b[K     |██████████████▏                 | 634kB 8.5MB/s eta 0:00:01\r\u001b[K     |██████████████▍                 | 645kB 8.5MB/s eta 0:00:01\r\u001b[K     |██████████████▊                 | 655kB 8.5MB/s eta 0:00:01\r\u001b[K     |███████████████                 | 665kB 8.5MB/s eta 0:00:01\r\u001b[K     |███████████████▏                | 675kB 8.5MB/s eta 0:00:01\r\u001b[K     |███████████████▍                | 686kB 8.5MB/s eta 0:00:01\r\u001b[K     |███████████████▋                | 696kB 8.5MB/s eta 0:00:01\r\u001b[K     |███████████████▉                | 706kB 8.5MB/s eta 0:00:01\r\u001b[K     |████████████████                | 716kB 8.5MB/s eta 0:00:01\r\u001b[K     |████████████████▎               | 727kB 8.5MB/s eta 0:00:01\r\u001b[K     |████████████████▌               | 737kB 8.5MB/s eta 0:00:01\r\u001b[K     |████████████████▊               | 747kB 8.5MB/s eta 0:00:01\r\u001b[K     |█████████████████               | 757kB 8.5MB/s eta 0:00:01\r\u001b[K     |█████████████████▏              | 768kB 8.5MB/s eta 0:00:01\r\u001b[K     |█████████████████▍              | 778kB 8.5MB/s eta 0:00:01\r\u001b[K     |█████████████████▋              | 788kB 8.5MB/s eta 0:00:01\r\u001b[K     |█████████████████▉              | 798kB 8.5MB/s eta 0:00:01\r\u001b[K     |██████████████████              | 808kB 8.5MB/s eta 0:00:01\r\u001b[K     |██████████████████▍             | 819kB 8.5MB/s eta 0:00:01\r\u001b[K     |██████████████████▋             | 829kB 8.5MB/s eta 0:00:01\r\u001b[K     |██████████████████▉             | 839kB 8.5MB/s eta 0:00:01\r\u001b[K     |███████████████████             | 849kB 8.5MB/s eta 0:00:01\r\u001b[K     |███████████████████▎            | 860kB 8.5MB/s eta 0:00:01\r\u001b[K     |███████████████████▌            | 870kB 8.5MB/s eta 0:00:01\r\u001b[K     |███████████████████▊            | 880kB 8.5MB/s eta 0:00:01\r\u001b[K     |████████████████████            | 890kB 8.5MB/s eta 0:00:01\r\u001b[K     |████████████████████▏           | 901kB 8.5MB/s eta 0:00:01\r\u001b[K     |████████████████████▍           | 911kB 8.5MB/s eta 0:00:01\r\u001b[K     |████████████████████▋           | 921kB 8.5MB/s eta 0:00:01\r\u001b[K     |████████████████████▉           | 931kB 8.5MB/s eta 0:00:01\r\u001b[K     |█████████████████████           | 942kB 8.5MB/s eta 0:00:01\r\u001b[K     |█████████████████████▎          | 952kB 8.5MB/s eta 0:00:01\r\u001b[K     |█████████████████████▌          | 962kB 8.5MB/s eta 0:00:01\r\u001b[K     |█████████████████████▉          | 972kB 8.5MB/s eta 0:00:01\r\u001b[K     |██████████████████████          | 983kB 8.5MB/s eta 0:00:01\r\u001b[K     |██████████████████████▎         | 993kB 8.5MB/s eta 0:00:01\r\u001b[K     |██████████████████████▌         | 1.0MB 8.5MB/s eta 0:00:01\r\u001b[K     |██████████████████████▊         | 1.0MB 8.5MB/s eta 0:00:01\r\u001b[K     |███████████████████████         | 1.0MB 8.5MB/s eta 0:00:01\r\u001b[K     |███████████████████████▏        | 1.0MB 8.5MB/s eta 0:00:01\r\u001b[K     |███████████████████████▍        | 1.0MB 8.5MB/s eta 0:00:01\r\u001b[K     |███████████████████████▋        | 1.1MB 8.5MB/s eta 0:00:01\r\u001b[K     |███████████████████████▉        | 1.1MB 8.5MB/s eta 0:00:01\r\u001b[K     |████████████████████████        | 1.1MB 8.5MB/s eta 0:00:01\r\u001b[K     |████████████████████████▎       | 1.1MB 8.5MB/s eta 0:00:01\r\u001b[K     |████████████████████████▌       | 1.1MB 8.5MB/s eta 0:00:01\r\u001b[K     |████████████████████████▊       | 1.1MB 8.5MB/s eta 0:00:01\r\u001b[K     |█████████████████████████       | 1.1MB 8.5MB/s eta 0:00:01\r\u001b[K     |█████████████████████████▏      | 1.1MB 8.5MB/s eta 0:00:01\r\u001b[K     |█████████████████████████▌      | 1.1MB 8.5MB/s eta 0:00:01\r\u001b[K     |█████████████████████████▊      | 1.1MB 8.5MB/s eta 0:00:01\r\u001b[K     |██████████████████████████      | 1.2MB 8.5MB/s eta 0:00:01\r\u001b[K     |██████████████████████████▏     | 1.2MB 8.5MB/s eta 0:00:01\r\u001b[K     |██████████████████████████▍     | 1.2MB 8.5MB/s eta 0:00:01\r\u001b[K     |██████████████████████████▋     | 1.2MB 8.5MB/s eta 0:00:01\r\u001b[K     |██████████████████████████▉     | 1.2MB 8.5MB/s eta 0:00:01\r\u001b[K     |███████████████████████████     | 1.2MB 8.5MB/s eta 0:00:01\r\u001b[K     |███████████████████████████▎    | 1.2MB 8.5MB/s eta 0:00:01\r\u001b[K     |███████████████████████████▌    | 1.2MB 8.5MB/s eta 0:00:01\r\u001b[K     |███████████████████████████▊    | 1.2MB 8.5MB/s eta 0:00:01\r\u001b[K     |████████████████████████████    | 1.2MB 8.5MB/s eta 0:00:01\r\u001b[K     |████████████████████████████▏   | 1.3MB 8.5MB/s eta 0:00:01\r\u001b[K     |████████████████████████████▍   | 1.3MB 8.5MB/s eta 0:00:01\r\u001b[K     |████████████████████████████▋   | 1.3MB 8.5MB/s eta 0:00:01\r\u001b[K     |████████████████████████████▉   | 1.3MB 8.5MB/s eta 0:00:01\r\u001b[K     |█████████████████████████████▏  | 1.3MB 8.5MB/s eta 0:00:01\r\u001b[K     |█████████████████████████████▍  | 1.3MB 8.5MB/s eta 0:00:01\r\u001b[K     |█████████████████████████████▋  | 1.3MB 8.5MB/s eta 0:00:01\r\u001b[K     |█████████████████████████████▉  | 1.3MB 8.5MB/s eta 0:00:01\r\u001b[K     |██████████████████████████████  | 1.3MB 8.5MB/s eta 0:00:01\r\u001b[K     |██████████████████████████████▎ | 1.4MB 8.5MB/s eta 0:00:01\r\u001b[K     |██████████████████████████████▌ | 1.4MB 8.5MB/s eta 0:00:01\r\u001b[K     |██████████████████████████████▊ | 1.4MB 8.5MB/s eta 0:00:01\r\u001b[K     |███████████████████████████████ | 1.4MB 8.5MB/s eta 0:00:01\r\u001b[K     |███████████████████████████████▏| 1.4MB 8.5MB/s eta 0:00:01\r\u001b[K     |███████████████████████████████▍| 1.4MB 8.5MB/s eta 0:00:01\r\u001b[K     |███████████████████████████████▋| 1.4MB 8.5MB/s eta 0:00:01\r\u001b[K     |███████████████████████████████▉| 1.4MB 8.5MB/s eta 0:00:01\r\u001b[K     |████████████████████████████████| 1.4MB 8.5MB/s \n",
            "\u001b[?25hBuilding wheels for collected packages: mpi4py\n",
            "  Building wheel for mpi4py (setup.py) ... \u001b[?25l\u001b[?25hdone\n",
            "  Created wheel for mpi4py: filename=mpi4py-3.0.3-cp37-cp37m-linux_x86_64.whl size=2065229 sha256=80cf915cf177c9c35ecc2bac7f0e79c564a64bbd2edf5cf245410a5c8482b249\n",
            "  Stored in directory: /root/.cache/pip/wheels/18/e0/86/2b713dd512199096012ceca61429e12b960888de59818871d6\n",
            "Successfully built mpi4py\n",
            "Installing collected packages: mpi4py\n",
            "Successfully installed mpi4py-3.0.3\n"
          ]
        }
      ],
      "source": [
        "!pip install mpi4py"
      ]
    },
    {
      "cell_type": "markdown",
      "metadata": {
        "id": "hwWkTx9NVoXw"
      },
      "source": [
        "**Collective communication**\n",
        "\n",
        "---\n",
        "\n",
        "\n",
        "In parallel programming, it is often useful to perform what is known as collective communication, for example, broadcasting a Python object from the master process to all the worker processes. The example code below broadcasts a Numpy array using the bcast method."
      ]
    },
    {
      "cell_type": "code",
      "execution_count": null,
      "metadata": {
        "colab": {
          "base_uri": "https://localhost:8080/",
          "height": 367
        },
        "id": "gtGQW_qHNuPz",
        "outputId": "4ad4130c-7daf-4ede-d96f-d83354f74a45"
      },
      "outputs": [
        {
          "ename": "ModuleNotFoundError",
          "evalue": "ignored",
          "output_type": "error",
          "traceback": [
            "\u001b[0;31m---------------------------------------------------------------------------\u001b[0m",
            "\u001b[0;31mModuleNotFoundError\u001b[0m                       Traceback (most recent call last)",
            "\u001b[0;32m<ipython-input-1-fa68c2f725c1>\u001b[0m in \u001b[0;36m<module>\u001b[0;34m()\u001b[0m\n\u001b[0;32m----> 1\u001b[0;31m \u001b[0;32mfrom\u001b[0m \u001b[0mmpi4py\u001b[0m \u001b[0;32mimport\u001b[0m \u001b[0mMPI\u001b[0m\u001b[0;34m\u001b[0m\u001b[0;34m\u001b[0m\u001b[0m\n\u001b[0m\u001b[1;32m      2\u001b[0m \u001b[0;32mimport\u001b[0m \u001b[0mnumpy\u001b[0m \u001b[0;32mas\u001b[0m \u001b[0mnp\u001b[0m\u001b[0;34m\u001b[0m\u001b[0;34m\u001b[0m\u001b[0m\n\u001b[1;32m      3\u001b[0m \u001b[0;34m\u001b[0m\u001b[0m\n\u001b[1;32m      4\u001b[0m \u001b[0mcomm\u001b[0m \u001b[0;34m=\u001b[0m \u001b[0mMPI\u001b[0m\u001b[0;34m.\u001b[0m\u001b[0mCOMM_WORLD\u001b[0m\u001b[0;34m\u001b[0m\u001b[0;34m\u001b[0m\u001b[0m\n\u001b[1;32m      5\u001b[0m \u001b[0mrank\u001b[0m \u001b[0;34m=\u001b[0m \u001b[0mcomm\u001b[0m\u001b[0;34m.\u001b[0m\u001b[0mGet_rank\u001b[0m\u001b[0;34m(\u001b[0m\u001b[0;34m)\u001b[0m\u001b[0;34m\u001b[0m\u001b[0;34m\u001b[0m\u001b[0m\n",
            "\u001b[0;31mModuleNotFoundError\u001b[0m: No module named 'mpi4py'",
            "",
            "\u001b[0;31m---------------------------------------------------------------------------\u001b[0;32m\nNOTE: If your import is failing due to a missing package, you can\nmanually install dependencies using either !pip or !apt.\n\nTo view examples of installing some common dependencies, click the\n\"Open Examples\" button below.\n\u001b[0;31m---------------------------------------------------------------------------\u001b[0m\n"
          ]
        }
      ],
      "source": [
        "from mpi4py import MPI\n",
        "import numpy as np\n",
        "\n",
        "comm = MPI.COMM_WORLD\n",
        "rank = comm.Get_rank()\n",
        "size = comm.Get_size()\n",
        "\n",
        "if rank == 0:\n",
        "    data = np.arange(4.0)\n",
        "else:\n",
        "    data = None\n",
        "\n",
        "data = comm.bcast(data, root=0)\n",
        "\n",
        "if rank == 0:\n",
        "    print('Process {} broadcast data:'.format(rank), data)\n",
        "else:\n",
        "    print('Process {} received data:'.format(rank), data)"
      ]
    },
    {
      "cell_type": "code",
      "execution_count": null,
      "metadata": {
        "id": "jiX28ZY9SwFJ"
      },
      "outputs": [],
      "source": [
        ""
      ]
    }
  ],
  "metadata": {
    "colab": {
      "name": "3-Accelerating-Run.ipynb",
      "provenance": []
    },
    "kernelspec": {
      "display_name": "Python 3",
      "name": "python3"
    },
    "language_info": {
      "name": "python"
    }
  },
  "nbformat": 4,
  "nbformat_minor": 0
}